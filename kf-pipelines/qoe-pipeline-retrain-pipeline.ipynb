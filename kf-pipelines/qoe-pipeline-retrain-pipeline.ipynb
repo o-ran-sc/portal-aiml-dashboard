{
 "cells": [
  {
   "cell_type": "code",
   "execution_count": 9,
   "metadata": {},
   "outputs": [],
   "source": [
    "import kfp\n",
    "import kfp.dsl as dsl\n",
    "from kfp.dsl import InputPath, OutputPath\n",
    "from kfp.dsl import component as component\n",
    "from kfp import kubernetes"
   ]
  },
  {
   "cell_type": "code",
   "execution_count": 10,
   "metadata": {},
   "outputs": [],
   "source": [
    "BASE_IMAGE = \"traininghost/pipelineimage:latest\""
   ]
  },
  {
   "cell_type": "code",
   "execution_count": null,
   "metadata": {},
   "outputs": [],
   "source": [
    "@component(base_image=BASE_IMAGE, packages_to_install=['requests']) \n",
    "def train_export_model(trainingjobName: str, epochs: str, version: str):\n",
    "    import tensorflow as tf\n",
    "    import numpy as np\n",
    "    import pandas as pd\n",
    "    import os\n",
    "    import zipfile\n",
    "    import requests\n",
    "    from featurestoresdk.feature_store_sdk import FeatureStoreSdk\n",
    "    from modelmetricsdk.model_metrics_sdk import ModelMetricsSdk\n",
    "    \n",
    "    fs_sdk = FeatureStoreSdk()\n",
    "    mm_sdk = ModelMetricsSdk()\n",
    "    \n",
    "    print(\"Job name is:\", trainingjobName)\n",
    "    \n",
    "    # Fetch features for training\n",
    "    features = fs_sdk.get_features(trainingjobName, ['pdcpBytesDl', 'pdcpBytesUl'])\n",
    "    print(\"Features dataframe:\")\n",
    "    print(features)\n",
    "    \n",
    "    features_cellc2b2 = features\n",
    "    print(\"Converting data types...\")\n",
    "    features_cellc2b2[\"pdcpBytesDl\"] = pd.to_numeric(features_cellc2b2[\"pdcpBytesDl\"], downcast=\"float\")\n",
    "    features_cellc2b2[\"pdcpBytesUl\"] = pd.to_numeric(features_cellc2b2[\"pdcpBytesUl\"], downcast=\"float\")\n",
    "    \n",
    "    features_cellc2b2 = features_cellc2b2[['pdcpBytesDl', 'pdcpBytesUl']]\n",
    "    \n",
    "    # Function to split series for time series training\n",
    "    def split_series(series, n_past, n_future):\n",
    "        X, y = list(), list()\n",
    "        for window_start in range(len(series)):\n",
    "            past_end = window_start + n_past\n",
    "            future_end = past_end + n_future\n",
    "            if future_end > len(series):\n",
    "                break\n",
    "            X.append(series[window_start:past_end, :])\n",
    "            y.append(series[past_end:future_end, :])\n",
    "        return np.array(X), np.array(y)\n",
    "    \n",
    "    X, y = split_series(features_cellc2b2.values, 10, 1)\n",
    "    X = X.reshape((X.shape[0], X.shape[1], X.shape[2]))\n",
    "    y = y.reshape((y.shape[0], y.shape[2]))\n",
    "    print(X.shape, y.shape)\n",
    "    \n",
    "    # Download the model\n",
    "    model_url = f\"http://tm.traininghost:32002/model/{trainingjobName}/{version}/Model.zip\"\n",
    "    response = requests.get(model_url)\n",
    "    \n",
    "    if response.status_code == 200:\n",
    "        local_file_path = 'Model.zip'\n",
    "        with open(local_file_path, 'wb') as file:\n",
    "            file.write(response.content)\n",
    "        print(f'Downloaded file saved to {local_file_path}')\n",
    "    else:\n",
    "        raise Exception(f\"Failed to download model from {model_url}\")\n",
    "    \n",
    "    # Extract the model\n",
    "    zip_file_path = \"./Model.zip\"\n",
    "    extract_to_dir = \"./Model\"\n",
    "    if not os.path.exists(extract_to_dir):\n",
    "        os.makedirs(extract_to_dir)\n",
    "    with zipfile.ZipFile(zip_file_path, 'r') as zip_ref:\n",
    "        zip_ref.extractall(extract_to_dir)\n",
    "    os.remove(zip_file_path)\n",
    "    \n",
    "    # Load the model\n",
    "    model_path = \"./Model/1\"\n",
    "    model = tf.keras.models.load_model(model_path)\n",
    "    model.compile(loss='mse', optimizer='adam', metrics=['mse'])\n",
    "    \n",
    "    # Define a directory for checkpoints\n",
    "    checkpoint_dir = \"./checkpoints\"\n",
    "    if not os.path.exists(checkpoint_dir):\n",
    "        os.makedirs(checkpoint_dir)\n",
    "    \n",
    "    checkpoint_path = os.path.join(checkpoint_dir, \"model_epoch_{epoch:02d}_val_loss_{val_loss:.2f}.h5\")\n",
    "    checkpoint_callback = tf.keras.callbacks.ModelCheckpoint(\n",
    "        filepath=checkpoint_path,\n",
    "        monitor='val_loss',\n",
    "        save_best_only=True,\n",
    "        save_weights_only=False,\n",
    "        mode='min',\n",
    "        verbose=0\n",
    "    )\n",
    "    \n",
    "    # Retrain the model\n",
    "    print(\"Retraining the model with checkpoints...\")\n",
    "    model.fit(X, y, batch_size=10, epochs=int(epochs), validation_split=0.2, callbacks=[checkpoint_callback])\n",
    "    \n",
    "    yhat = model.predict(X, verbose=0)\n",
    "    \n",
    "    # Increment the version number by 1\n",
    "    new_version = str(int(version) + 1)\n",
    "    retrained_model_path = f\"./retrain/{new_version}\"\n",
    "    \n",
    "    if not os.path.exists(retrained_model_path):\n",
    "        os.makedirs(retrained_model_path)\n",
    "    \n",
    "    # Save the retrained model with new version\n",
    "    model.save(retrained_model_path)\n",
    "    print(f\"Retrained model saved at {retrained_model_path} with version {new_version}\")\n",
    "    \n",
    "    # Upload metrics\n",
    "    accuracy = np.mean(np.absolute(np.asarray(y) - np.asarray(yhat)) < 5)\n",
    "    data = {\n",
    "        'metrics': [{'Accuracy': str(accuracy)}]\n",
    "    }\n",
    "    \n",
    "    mm_sdk.upload_metrics(data, trainingjobName, new_version)\n",
    "    mm_sdk.upload_model(retrained_model_path, trainingjobName, new_version)\n"
   ]
  },
  {
   "cell_type": "code",
   "execution_count": 12,
   "metadata": {},
   "outputs": [],
   "source": [
    "@dsl.pipeline(\n",
    "    name=\"qoe Pipeline retrain\",\n",
    "    description=\"qoe retrain\",\n",
    ")\n",
    "def super_model_pipeline( \n",
    "    trainingjob_name: str, epochs: str, version: str):\n",
    "    \n",
    "    trainop=train_export_model(trainingjobName=trainingjob_name, epochs=epochs, version=version)\n",
    "    trainop.set_caching_options(False)\n",
    "    kubernetes.set_image_pull_policy(trainop, \"IfNotPresent\")"
   ]
  },
  {
   "cell_type": "code",
   "execution_count": 13,
   "metadata": {},
   "outputs": [],
   "source": [
    "pipeline_func = super_model_pipeline\n",
    "file_name = \"qoe_model_pipeline_retrain_2\"\n",
    "\n",
    "kfp.compiler.Compiler().compile(pipeline_func,  \n",
    "  '{}.yaml'.format(file_name))"
   ]
  },
  {
   "cell_type": "code",
   "execution_count": null,
   "metadata": {},
   "outputs": [],
   "source": [
    "import requests\n",
    "pipeline_name=\"qoe_Pipeline_retrain_2\"\n",
    "pipeline_file = file_name+'.yaml'\n",
    "requests.post(\"http://tm.traininghost:32002/pipelines/{}/upload\".format(pipeline_name), files={'file':open(pipeline_file,'rb')})"
   ]
  },
  {
   "cell_type": "code",
   "execution_count": 14,
   "metadata": {},
   "outputs": [
    {
     "data": {
      "text/html": [
       "<a href=\"http://ml-pipeline-ui.kubeflow:80/#/experiments/details/c7714054-ee78-484d-ae94-086901f98693\" target=\"_blank\" >Experiment details</a>."
      ],
      "text/plain": [
       "<IPython.core.display.HTML object>"
      ]
     },
     "metadata": {},
     "output_type": "display_data"
    },
    {
     "data": {
      "text/html": [
       "<a href=\"http://ml-pipeline-ui.kubeflow:80/#/runs/details/86ef1c74-2978-4a1d-9743-831b9b9c9dfe\" target=\"_blank\" >Run details</a>."
      ],
      "text/plain": [
       "<IPython.core.display.HTML object>"
      ]
     },
     "metadata": {},
     "output_type": "display_data"
    }
   ],
   "source": [
    "from kfp.client import Client\n",
    "client = Client(host='http://ml-pipeline-ui.kubeflow:80')\n",
    "# client.upload_pipeline_version(pipeline_package_path='pipeline.yaml',pipeline_version_name='v2', pipeline_name='sample-pipeline')\n",
    "result = client.create_run_from_pipeline_package('qoe_model_pipeline_retrain_2.yaml', arguments={'trainingjob_name':'testing_influxdb_301', 'epochs':'5', 'version':'1'})"
   ]
  },
  {
   "cell_type": "code",
   "execution_count": null,
   "metadata": {},
   "outputs": [],
   "source": []
  }
 ],
 "metadata": {
  "kernelspec": {
   "display_name": "Python 3 (ipykernel)",
   "language": "python",
   "name": "python3"
  },
  "language_info": {
   "codemirror_mode": {
    "name": "ipython",
    "version": 3
   },
   "file_extension": ".py",
   "mimetype": "text/x-python",
   "name": "python",
   "nbconvert_exporter": "python",
   "pygments_lexer": "ipython3",
   "version": "3.9.6"
  }
 },
 "nbformat": 4,
 "nbformat_minor": 4
}
